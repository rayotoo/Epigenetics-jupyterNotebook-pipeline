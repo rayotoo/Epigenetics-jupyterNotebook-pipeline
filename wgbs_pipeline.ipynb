{
 "cells": [
  {
   "cell_type": "code",
   "execution_count": null,
   "metadata": {
    "collapsed": true
   },
   "outputs": [],
   "source": [
    "1.\tDownloading from SRA : \n",
    "wget ftp://ftptrace.ncbi.nlm.nih.gov/sra/srainstant/reads/ByRun/sra/SRR/SRR123/SRR1234567/SRR1234567.sra\n"
   ]
  },
  {
   "cell_type": "code",
   "execution_count": null,
   "metadata": {
    "collapsed": true
   },
   "outputs": [],
   "source": [
    "2.\tConvert SRA files to FastQ: Fastqdump.sh $1\n",
    "\n",
    "    \n",
    "#!/bin/sh\n",
    "#SBATCH --time=1-10:15 -n1 -p dque\n",
    "fastq-dump --split-files $1\n",
    "\n",
    "    \n",
    "    "
   ]
  },
  {
   "cell_type": "code",
   "execution_count": null,
   "metadata": {
    "collapsed": true
   },
   "outputs": [],
   "source": [
    "3.\tFASTQC: fastqc.sh $1\n",
    "    \n",
    "#!/bin/bash\n",
    "\n",
    "#SBATCH --time=24:00:00 -n12 -p dque\n",
    "\n",
    "fastqc -t 24 $1\n"
   ]
  },
  {
   "cell_type": "code",
   "execution_count": null,
   "metadata": {
    "collapsed": true
   },
   "outputs": [],
   "source": [
    "4.\tSplit 10 Million reads: fastq_split.sh $1 ($1 zipped.fq.gz files)\n",
    "    \n",
    "#!/bin/bash\n",
    "\n",
    "#SBATCH --time=2:00:00 -n6 -p dque\n",
    "\n",
    "#Args: Input Fastq files\n",
    "\n",
    "IN_FILE=$1\n",
    "echo $IN_FILE\n",
    "\n",
    "mkdir -p split\n",
    "\n",
    "e=$(echo $IN_FILE|cut -f1,2 -d\".\")\n",
    "echo $e\n",
    "\n",
    "zcat $IN_FILE | split --verbose -l 40000000 -d -a 4 --filter=\"pigz -p 2 -c > split/\\$FILE.gz\" - split.10m.$e\n",
    "\n",
    "    "
   ]
  },
  {
   "cell_type": "code",
   "execution_count": null,
   "metadata": {
    "collapsed": true
   },
   "outputs": [],
   "source": [
    "5.\tAdapter Trimming: trimgalore.sh $1 $2 (val_1 and val_2 files are generated after trimming)\n",
    "\n",
    "\n",
    "#!/bin/bash\n",
    "\n",
    "#SBATCH --time=24:00:00 -n6 -p dque\n",
    "\n",
    "# Args: Read1_forward.fq Read1_reverse.fq\n",
    "\n",
    "DIR_NAME=$(dirname $1)\n",
    "\n",
    "mkdir $DIR_NAME/trimmed\n",
    "\n",
    "OUTPUT_DIR=$DIR_NAME/trimmed\n",
    "\n",
    "trim_galore --paired -q 20 --length 50 -o $OUTPUT_DIR $1 $2\n",
    "\n"
   ]
  },
  {
   "cell_type": "code",
   "execution_count": null,
   "metadata": {
    "collapsed": true
   },
   "outputs": [],
   "source": [
    "6.\tAligning: bismark_genocode_align_nady.sh $1 $2 (single .bam file generated for paired-end reads)\n",
    "    \n",
    "#!/bin/bash\n",
    "\n",
    "#SBATCH --time=2-20:00:00 -n12 -p dque\n",
    "\n",
    "# Arg order: First_read.fq Second_read.fq Read_Group_string\n",
    "\n",
    "starttime=$(date +\"%s\")\n",
    "echo $(date -u -d @${starttime})\n",
    "\n",
    "\n",
    "DIR_NAME=$(dirname $1)\n",
    "\n",
    "mkdir \"$DIR_NAME\"/aligned\n",
    "\n",
    "OUT_DIR=$DIR_NAME/aligned\n",
    "\n",
    "echo \"Output directory: $OUT_DIR\"\n",
    "\n",
    "bismark --multicore 6 -q -o $OUT_DIR --genome /home/nady/genomes/gencode -1 $1 -2 $2\n",
    "\n",
    "endtime=$(date +\"%s\")\n",
    "echo $(date -u -d @${endtime})\n",
    "echo \"Time elapsed\" $(date -u -d @$(($endtime-$starttime)) +\"%T\")\n",
    "    "
   ]
  },
  {
   "cell_type": "code",
   "execution_count": null,
   "metadata": {
    "collapsed": true
   },
   "outputs": [],
   "source": [
    "7.\tSplit by chromosome: split.sh $1\n",
    "    \n",
    "#!/bin/sh\n",
    "#SBATCH --time=10:00:00 -n1 -p dque\n",
    "\n",
    "bamtools split -in $1 -reference\n"
   ]
  },
  {
   "cell_type": "code",
   "execution_count": null,
   "metadata": {
    "collapsed": true
   },
   "outputs": [],
   "source": [
    "8.\tMerge by chromosome: bamtools_merge.sh $1 ($1 list.txt)\n",
    "    \n",
    "#!/bin/sh\n",
    "#SBATCH --time=1-10:15 -n1 -p dque\n",
    "# Get file name\n",
    "FILE=$(basename $1)\n",
    "\n",
    "# get the working directiory of the file\n",
    "INPUT_DIR=$(dirname $1)\n",
    "\n",
    "# create a sorted direction inside if it doesn't exist\n",
    "mkdir -p \"$INPUT_DIR\"/gathered\n",
    "\n",
    "# declare path for output file\n",
    "OUTPUT_FILE=\"$INPUT_DIR\"/gathered/\"$FILE\".gathered.bam\n",
    "\n",
    "METRICS=\"$INPUT_DIR\"/gathered/\"$FILE\".metrics.txt\n",
    "\n",
    "echo $FILE\n",
    "echo $OUT_FILE\n",
    "echo $METRICS\n",
    "\n",
    "#java -jar /home/scott/software/picard.jar GatherBamFiles I=$1 O=$OUTPUT_FILE\n",
    "bamtools merge -list $1 -out $OUTPUT_FILE\n"
   ]
  },
  {
   "cell_type": "code",
   "execution_count": null,
   "metadata": {
    "collapsed": true
   },
   "outputs": [],
   "source": [
    "9.\tM-Bias: mbias_report.sh $1 (use python script for drawing M-Bias plots)\n",
    "    \n",
    "#!/bin/bash\n",
    "\n",
    "#SBATCH --time=2-0 -n24 -p bynode\n",
    "\n",
    "INPUT_DIR=$(dirname $1)\n",
    "\n",
    "mkdir -p \"$INPUT_DIR\"/methylation_extraction\n",
    "\n",
    "OUTPUT_DIR=\"$INPUT_DIR\"/methylation_extraction\n",
    "\n",
    "\n",
    "bismark_methylation_extractor -p --comprehensive --report --multicore 8 -o $OUTPUT_DIR $1 --mbias_only\n"
   ]
  },
  {
   "cell_type": "code",
   "execution_count": null,
   "metadata": {
    "collapsed": true
   },
   "outputs": [],
   "source": [
    "10.\tCoordinate sorting: picard_sort_nady.sh $1\n",
    "    \n",
    "#!/bin/bash\n",
    "\n",
    "#SBATCH --time=24:00:00 -n8 -p dque\n",
    "\n",
    "# Get file name\n",
    "FILE=$(basename $1)\n",
    "\n",
    "# get the working directiory of the file\n",
    "INPUT_DIR=$(dirname $1)\n",
    "\n",
    "# create a sorted direction inside if it doesn't exist\n",
    "mkdir -p \"$INPUT_DIR\"/sorted\n",
    "\n",
    "# declare path for output file\n",
    "OUTPUT_FILE=\"$INPUT_DIR\"/sorted/\"$FILE\".sorted.bam\n",
    "\n",
    "echo $FILE\n",
    "echo $OUTPUT_FILE\n",
    "\n",
    "/home/nady/bin/jre1.8.0_151/bin/java -jar /home/nady/picard/build/libs/picard.jar SortSam I=$1 O=$OUTPUT_FILE SORT_ORDER=coordinate\n"
   ]
  },
  {
   "cell_type": "code",
   "execution_count": null,
   "metadata": {
    "collapsed": true
   },
   "outputs": [],
   "source": [
    "11.\tDeduplication: deduplicate.sh $1\n",
    "    \n",
    "#!/bin/bash\n",
    "\n",
    "#SBATCH --time=24:00:00 -n8 -p dque\n",
    "\n",
    "# Get file name\n",
    "FILE=$(basename $1)\n",
    "\n",
    "# get the working directiory of the file\n",
    "INPUT_DIR=$(dirname $1)\n",
    "\n",
    "# create a sorted direction inside if it doesn't exist\n",
    "mkdir -p \"$INPUT_DIR\"/deduplicated\n",
    "\n",
    "# declare path for output file\n",
    "OUTPUT_FILE=\"$INPUT_DIR\"/deduplicated/\"$FILE\".deduplicated.bam\n",
    "\n",
    "METRICS=\"$INPUT_DIR\"/deduplicated/\"$FILE\".metrics.txt\n",
    "\n",
    "echo $FILE\n",
    "echo $OUT_FILE\n",
    "echo $METRICS\n",
    "\n",
    "/home/nady/bin/jre1.8.0_151/bin/java -jar /home/nady/picard/build/libs/picard.jar MarkDuplicates REMOVE_DUPLICATES=true I=$1 O=$OUTPUT_FILE M=$METRICS\n"
   ]
  },
  {
   "cell_type": "code",
   "execution_count": null,
   "metadata": {
    "collapsed": true
   },
   "outputs": [],
   "source": [
    "12.\tQuery sort: sorting_n_picard_nady.sh $1\n",
    "    \n",
    "#!/bin/bash\n",
    "\n",
    "#SBATCH --time=24:00:00 -n8 -p dque\n",
    "\n",
    "# Get file name\n",
    "FILE=$(basename $1)\n",
    "\n",
    "# get the working directiory of the file\n",
    "INPUT_DIR=$(dirname $1)\n",
    "\n",
    "# create a sorted direction inside if it doesn't exist\n",
    "mkdir -p \"$INPUT_DIR\"/sorted\n",
    "\n",
    "# declare path for output file\n",
    "OUTPUT_FILE=\"$INPUT_DIR\"/sorted/\"$FILE\".sorted.bam\n",
    "\n",
    "echo $FILE\n",
    "echo $OUTPUT_FILE\n",
    "\n",
    "/home/nady/bin/jre1.8.0_151/bin/java -jar /home/nady/picard/build/libs/picard.jar SortSam I=$1 O=$OUTPUT_FILE SORT_ORDER=queryname"
   ]
  },
  {
   "cell_type": "code",
   "execution_count": null,
   "metadata": {
    "collapsed": true
   },
   "outputs": [],
   "source": [
    "13.\t Methylation Extraction: bismark_methly_extract.sh $1 0 0 3 1 (trimming R1 -5’ -3’ R2 –5’ -3’) Values based on M-Bias plot\n",
    "\n",
    "#!/bin/bash\n",
    "\n",
    "#SBATCH --time=2-0 -n24 -p bynode\n",
    "\n",
    "#Arg Order: File.bam ignore ignore_3prime r2_ignore r2_ignore_3prime\n",
    "\n",
    "INPUT_DIR=$(dirname $1)\n",
    "\n",
    "mkdir -p \"$INPUT_DIR\"/methylation_extraction\n",
    "\n",
    "OUTPUT_DIR=\"$INPUT_DIR\"/methylation_extraction\n",
    "\n",
    "\n",
    "bismark_methylation_extractor -p --comprehensive --report --multicore 8 -o $OUTPUT_DIR $1 --ignore $2 --ignore_r2 $4 --ignore_3prime $3 --ignore_3prime_r2 $5 --bedGraph --buffer_size 8G --cytosine_report --gzip --genome_folder /home/nad$\n",
    "\n",
    "\n",
    "    \n"
   ]
  },
  {
   "cell_type": "code",
   "execution_count": null,
   "metadata": {
    "collapsed": true
   },
   "outputs": [],
   "source": [
    "14.\tCoverage to cytosine: recal_methex.sh $1 ($.cov.gz file)\n",
    "    \n",
    "#!/bin/bash\n",
    "\n",
    "#SBATCH --time=3:00:00 -n4 -p dque\n",
    "\n",
    "\n",
    "INPUT_DIR=$(dirname $1)\n",
    "FILE=$(basename $1)\n",
    "\n",
    "mkdir -p \"$INPUT_DIR\"/cytocine_cov\n",
    "OUTPUT_DIR=\"$INPUT_DIR\"/cytocine_cov\n",
    "OUTPUT_FILE=\"$INPUT_DIR\"/cytocine_cov/\"$FILE\".cyt\n",
    "\n",
    "/home/nady/bismarkchathura/bismark_v0.18.1/coverage2cytosine --merge_CpG --genome_folder /home/nady/genomes/gencode -o $OUTPUT_FILE $1\n",
    "\n"
   ]
  },
  {
   "cell_type": "code",
   "execution_count": null,
   "metadata": {
    "collapsed": true
   },
   "outputs": [],
   "source": [
    "15.\tGenerate Bins: Use Chathura’s binning script in Python 3\n",
    "    \n",
    "    \n",
    "Command: Python3 bin_methylation_py3_vers2.py $1-cyt.merged_CpG_evidence.cov 100 10 4\n",
    "1-Bin_size 2-Minimum_Coverage 3_Number_of_CpGs_covered \n",
    "\n"
   ]
  },
  {
   "cell_type": "markdown",
   "metadata": {},
   "source": [
    "A. Prerequisite: Bisulfite Genome Preparation (download genome to folder ~/genomes))\n",
    "\n",
    "#!/bin/sh\n",
    "#SBATCH --time=1-10:15 -n1 -p dque\n",
    "/home/nady/software/Bismark_v0.19.0/bismark_genome_preparation  --verbose ~/genomes/\n"
   ]
  },
  {
   "cell_type": "code",
   "execution_count": null,
   "metadata": {
    "collapsed": true
   },
   "outputs": [],
   "source": [
    "B. BashRC\n",
    "\n",
    "# .bashrc\n",
    "\n",
    "# Source global definitions\n",
    "if [ -f /etc/bashrc ]; then\n",
    "        . /etc/bashrc\n",
    "fi\n",
    "\n",
    "# Uncomment the following line if you don't like systemctl's auto-paging feature:\n",
    "# export SYSTEMD_PAGER=\n",
    "\n",
    "# User specific aliases and functions\n",
    "\n",
    "export JAVA_HOME=/home/nady/bin/jre1.8.0_151/bin\n",
    "#export PATH=$JAVA_HOME/bin:$PATH\n",
    "#export PATH=$PATH:/home/scott/software/samtools/bin\n",
    "export PATH=$PATH:/home/nady/bin/samtools/bin\n",
    "#export PATH=$PATH:~/software/bismark_v0.18.1\n",
    "#export PATH=$PATH:/home/scott/software/FastQC\n",
    "#export PATH=$PATH:/home/scott/software/TrimGalore-0.4.3\n",
    "#export PATH=$PATH:/home/scott/software/bowtie2-2.3.2-legacy\n",
    "export PATH=$PATH:/home/nady/bin\n",
    "export PATH=$PATH:/home/gunasekara/softwares/biscuit-release\n",
    "#export PATH=$PATH:/home/noahk/bin/\n",
    "#export PATH=$PATH:/home/noahk/bin/\n",
    "export PATH=$PATH:/home/nady/sratoolkit.2.8.2-1-centos_linux64/bin/\n",
    "export PATH=$PATH:/home/nady/pigz\n",
    "export PATH=$PATH:/home/nady/picard/build/libs/picard.jar\n",
    "export PATH=$PATH:/home/nady/software/Bismark_v0.19.0\n",
    "export PATH=$PATH:/home/nady/software/bowtie2-2.3.3.1-linux-x86_64\n",
    "export PATH=$PATH:/home/jdong/miniconda2/bin\n",
    "#export PATH=$PATH:/home/gunasekara/modules/bismark_v0.18.1\n",
    "export PATH=$PATH:/home/noahk/software/cutadapt-1.8.3/bin\n",
    "export PATH=$PATH:/home/jdong/sratoolkit.2.8.1-centos_linux64/bin\n",
    "export PATH=$PATH:/home/noahk/jduryea/samstat-1.5.1/bin\n",
    "#export PATH=$PATH:/home/coarfa/pkgs/java/bin\n",
    "export PATH=$PATH:/home/noahk/software/picard/bin\n",
    "#export PATH=$PATH:/home/coarfa/pkgs/java/picard/picard.jar\n",
    "#export PATH=$PATH:/home/coarfa/pkgs/picardtools-2.9.0/picard.jar\n",
    "#export PATH=$PATH:/home/coarfa/pkgs/picard/picard.jar\n",
    "#export JAVA_HOME=/home/coarfa/pkgs/java\n",
    "#export PATH=$JAVA_HOME/bin:$PATH\n",
    "#export PATH=$PATH:/home/coarfa/pkgs/picardtools-2.9.0\n",
    "#export PATH=$PATH:/home/coarfa/pkgs/java/picard\n",
    "#export PATH=$PATH:/home/jduryea/trim_galore_v0.4.4\n",
    "export PATH=$PATH:/home/jduryea\n",
    "export PATH=$PATH:/home/noahk/software/FastQC/bin\n",
    "#export PATH=$PATH:/home/noahk/software/trim_galore_v0.4.4\n",
    "export PATH=$PATH:/home/jduryea/bin/bamtools/bin\n",
    "export PATH=$PATH:/home/jduryea/bin/biscuit-release\n",
    "export PATH=$PATH:/home/gunasekara/vcftools/bin/bin\n",
    "export PATH=$PATH:/home/gunasekara/MethylExtract_1.9.1\n",
    "export PATH=$PATH:/home/gunasekara/bin/pigz-2.3.4\n",
    "#export PATH=$PATH:/home/scott/python/bin/\n",
    "export PATH=$PATH:~/.local/bin\n",
    "export PATH=$PATH:/home/gunasekara/bin/bbmap\n",
    "\n",
    "PATH=\"/home/gunasekara/perl5/bin${PATH:+:${PATH}}\"; export PATH;\n",
    "PERL5LIB=\"/home/gunasekara/perl5/lib/perl5${PERL5LIB:+:${PERL5LIB}}\"; export PERL5LIB;\n",
    "PERL_LOCAL_LIB_ROOT=\"/home/gunasekara/perl5${PERL_LOCAL_LIB_ROOT:+:${PERL_LOCAL_LIB_ROOT}}\"; export PERL_LOCAL_LIB_ROOT;\n",
    "PERL_MB_OPT=\"--install_base \\\"/home/gunasekara/perl5\\\"\"; export PERL_MB_OPT;\n",
    "PERL_MM_OPT=\"INSTALL_BASE=/home/gunasekara/perl5\"; export PERL_MM_OPT;\n",
    "\n",
    "# added by Anaconda2 installer\n",
    "export PATH=\"/home/nady/anaconda2/bin:$PATH\"\n",
    "\n",
    "# added by Anaconda3 installer\n"
   ]
  }
 ],
 "metadata": {
  "kernelspec": {
   "display_name": "Python 3",
   "language": "python",
   "name": "python3"
  },
  "language_info": {
   "codemirror_mode": {
    "name": "ipython",
    "version": 3
   },
   "file_extension": ".py",
   "mimetype": "text/x-python",
   "name": "python",
   "nbconvert_exporter": "python",
   "pygments_lexer": "ipython3",
   "version": "3.6.3"
  },
  "widgets": {
   "application/vnd.jupyter.widget-state+json": {
    "state": {},
    "version_major": 2,
    "version_minor": 0
   }
  }
 },
 "nbformat": 4,
 "nbformat_minor": 2
}
